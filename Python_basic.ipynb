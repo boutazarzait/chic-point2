{
  "nbformat": 4,
  "nbformat_minor": 0,
  "metadata": {
    "colab": {
      "name": "Python basic.ipynb",
      "provenance": [],
      "collapsed_sections": []
    },
    "kernelspec": {
      "name": "python3",
      "display_name": "Python 3"
    },
    "language_info": {
      "name": "python"
    }
  },
  "cells": [
    {
      "cell_type": "code",
      "execution_count": null,
      "metadata": {
        "id": "Ink1_KRBg3Wz"
      },
      "outputs": [],
      "source": [
        "#Q1"
      ]
    },
    {
      "cell_type": "code",
      "source": [
        "str1=input(\"donnez votre prénom :\")\n",
        "str2=input(\"donnez votre nom :\")\n",
        "print(str2,\" \",str1)\n",
        "\n",
        "  \n",
        " \n",
        "\n",
        "\n",
        "  \n",
        "  \n",
        "\n",
        "\n",
        "\n",
        "\n",
        "\n",
        " \n"
      ],
      "metadata": {
        "colab": {
          "base_uri": "https://localhost:8080/",
          "height": 53
        },
        "id": "fiZH-oStid5m",
        "outputId": "9e1dcf93-98b9-431d-92dc-bda5cfb4d04e"
      },
      "execution_count": 15,
      "outputs": [
        {
          "name": "stdout",
          "output_type": "stream",
          "text": [
            "donner un nom :hajar\n"
          ]
        },
        {
          "output_type": "execute_result",
          "data": {
            "text/plain": [
              "'hjr'"
            ],
            "application/vnd.google.colaboratory.intrinsic+json": {
              "type": "string"
            }
          },
          "metadata": {},
          "execution_count": 15
        }
      ]
    },
    {
      "cell_type": "code",
      "source": [
        "#Q2"
      ],
      "metadata": {
        "id": "FQDorzqt6I2-"
      },
      "execution_count": null,
      "outputs": []
    },
    {
      "cell_type": "code",
      "source": [
        "str1=input(\"entrer un seul chiffre :\")\n",
        "str2=input(\"entrer le chiffre deux fois :\")\n",
        "str3=input(\"entrer le chiffre trois fois :\")\n",
        "str4=int(str1)+int(str2)+int(str3)\n",
        "str4"
      ],
      "metadata": {
        "id": "9PO_3HNZ6dIx"
      },
      "execution_count": null,
      "outputs": []
    },
    {
      "cell_type": "code",
      "source": [
        "#Q3"
      ],
      "metadata": {
        "id": "99GD_Ccq6JEf"
      },
      "execution_count": null,
      "outputs": []
    },
    {
      "cell_type": "code",
      "source": [
        "str1=int(input(\"donnez un nombre :\"))\n",
        "if str1%2==0:\n",
        "    print(\"le nombre est pair\")\n",
        "else:\n",
        "    print(\"le nombre est impair\")"
      ],
      "metadata": {
        "id": "c8_CfGkU6JLY"
      },
      "execution_count": null,
      "outputs": []
    },
    {
      "cell_type": "code",
      "source": [
        "#Q4"
      ],
      "metadata": {
        "id": "OazNLfYz6JNE"
      },
      "execution_count": null,
      "outputs": []
    },
    {
      "cell_type": "code",
      "source": [
        "for i in range(2000 , 3201):\n",
        "    if i%7==0 and i%5!=0:\n",
        "        print(i , end=\",\")"
      ],
      "metadata": {
        "id": "5ywnFdhj65Pc"
      },
      "execution_count": null,
      "outputs": []
    },
    {
      "cell_type": "code",
      "source": [
        "#Q5"
      ],
      "metadata": {
        "id": "7nPSbIuT6JPP"
      },
      "execution_count": null,
      "outputs": []
    },
    {
      "cell_type": "code",
      "source": [
        "str1=int(input(\"donnez un nombre : \"))\n",
        "str2=1\n",
        "if str1==0 or str1==1:\n",
        "    print(\"1\")\n",
        "else:\n",
        "    for i in range(1,str1+1):\n",
        "        str2=str2*i\n",
        "str2"
      ],
      "metadata": {
        "id": "DIfja2qx7Aqe"
      },
      "execution_count": null,
      "outputs": []
    },
    {
      "cell_type": "code",
      "source": [
        "#Q6"
      ],
      "metadata": {
        "id": "3RIzJoZB6JRy"
      },
      "execution_count": null,
      "outputs": []
    },
    {
      "cell_type": "code",
      "source": [
        "str1=input(\"entrez quelque chose : \")\n",
        "h =\"\"\n",
        "for i in range(len(str1)):\n",
        "    if i%2==0:\n",
        "        h = h+str1[i]\n",
        "h"
      ],
      "metadata": {
        "id": "5-w0i1CU7IFp"
      },
      "execution_count": null,
      "outputs": []
    },
    {
      "cell_type": "code",
      "source": [
        "#Q7"
      ],
      "metadata": {
        "id": "qTRmGnHe6JT5"
      },
      "execution_count": null,
      "outputs": []
    },
    {
      "cell_type": "code",
      "source": [
        "str1=float(input(\"entrez le prix \"))\n",
        "if str1>=500:\n",
        "    str1=str1-str1*50/100\n",
        "elif str1>=200 and str1<500:\n",
        "    str1=str1-str1*30/100\n",
        "else:\n",
        "    str1=str1-str1*10/100\n",
        "str1"
      ],
      "metadata": {
        "id": "PVdO0bW66JX8"
      },
      "execution_count": null,
      "outputs": []
    },
    {
      "cell_type": "code",
      "source": [
        ""
      ],
      "metadata": {
        "id": "AKDrjllliIKV"
      },
      "execution_count": null,
      "outputs": []
    }
  ]
}